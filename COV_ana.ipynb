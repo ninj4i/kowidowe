{
 "cells": [
  {
   "cell_type": "markdown",
   "metadata": {},
   "source": []
  },
  {
   "cell_type": "code",
   "execution_count": 2,
   "metadata": {},
   "outputs": [
    {
     "ename": "ModuleNotFoundError",
     "evalue": "No module named 'requests'",
     "output_type": "error",
     "traceback": [
      "\u001b[1;31m---------------------------------------------------------------------------\u001b[0m",
      "\u001b[1;31mModuleNotFoundError\u001b[0m                       Traceback (most recent call last)",
      "Cell \u001b[1;32mIn [2], line 1\u001b[0m\n\u001b[1;32m----> 1\u001b[0m \u001b[39mimport\u001b[39;00m \u001b[39mrequests\u001b[39;00m\n\u001b[0;32m      3\u001b[0m r \u001b[39m=\u001b[39m requests\u001b[39m.\u001b[39mget(\u001b[39m'\u001b[39m\u001b[39mhttps://arcgis.com/sharing/rest/content/items/e16df1fa98c2452783ec10b0aea4b341/data\u001b[39m\u001b[39m'\u001b[39m)\n\u001b[0;32m      4\u001b[0m \u001b[39m#<a href=\"https://arcgis.com/sharing/rest/content/items/a8c562ead9c54e13a135b02e0d875ffb/data\" target=\"_blank\">Pobierz archiwalne dane dla województw</a>\u001b[39;00m\n",
      "\u001b[1;31mModuleNotFoundError\u001b[0m: No module named 'requests'"
     ]
    }
   ],
   "source": [
    "import requests\n",
    "\n",
    "r = requests.get('https://arcgis.com/sharing/rest/content/items/e16df1fa98c2452783ec10b0aea4b341/data')\n",
    "#<a href=\"https://arcgis.com/sharing/rest/content/items/a8c562ead9c54e13a135b02e0d875ffb/data\" target=\"_blank\">Pobierz archiwalne dane dla województw</a>\n",
    "zawartosc = r.content"
   ]
  }
 ],
 "metadata": {
  "kernelspec": {
   "display_name": "Python 3.11.0 64-bit",
   "language": "python",
   "name": "python3"
  },
  "language_info": {
   "codemirror_mode": {
    "name": "ipython",
    "version": 3
   },
   "file_extension": ".py",
   "mimetype": "text/x-python",
   "name": "python",
   "nbconvert_exporter": "python",
   "pygments_lexer": "ipython3",
   "version": "3.11.0"
  },
  "orig_nbformat": 4,
  "vscode": {
   "interpreter": {
    "hash": "decee46b519109469e4cb914493b944e1415be322004be49ddb643f35f9645dc"
   }
  }
 },
 "nbformat": 4,
 "nbformat_minor": 2
}
