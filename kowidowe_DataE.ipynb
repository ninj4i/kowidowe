{
 "cells": [
  {
   "cell_type": "code",
   "execution_count": 9,
   "metadata": {},
   "outputs": [],
   "source": [
    "import requests\n",
    "import zipfile\n",
    "import pathlib\n",
    "import pandas as pd\n",
    "import matplotlib.pyplot as plt\n",
    "import seaborn as sns"
   ]
  },
  {
   "cell_type": "code",
   "execution_count": 17,
   "metadata": {},
   "outputs": [],
   "source": [
    "r = requests.get('https://arcgis.com/sharing/rest/content/items/a8c562ead9c54e13a135b02e0d875ffb/data')\n",
    "zawartosc = r.content\n",
    "\n",
    "with open('dane//dane.zip', 'wb') as plik:\n",
    "    plik.write(zawartosc)\n",
    "\n",
    "\n",
    "with zipfile.ZipFile('dane//dane.zip') as spaklowany_plik:\n",
    "    spaklowany_plik.extractall(pathlib.Path('dane/pliki'))\n",
    "\n",
    "lista_plikow = list(pathlib.Path.glob(pathlib.Path('dane/pliki'), '*.csv'))\n",
    "\n",
    "kowidowe = []\n",
    "\n",
    "for plik in lista_plikow:\n",
    "    kowidowe.append(pd.read_csv(plik,encoding= 'windows-1250', sep = ';'))"
   ]
  },
  {
   "cell_type": "markdown",
   "metadata": {},
   "source": [
    "wypisujemy nazwy kolumn w pliku z danymi archiwalnymi"
   ]
  },
  {
   "cell_type": "code",
   "execution_count": 18,
   "metadata": {},
   "outputs": [
    {
     "name": "stdout",
     "output_type": "stream",
     "text": [
      "arch_data0.columns=Index(['Unnamed: 0', 'Data', 'Nowe przypadki',\n",
      "       'Wszystkie przypadki kumulatywnie', 'Zgony',\n",
      "       'Wszystkie zgony kumulatywnie', 'Ozdrowieńcy (dzienna)',\n",
      "       'Ozdrowieńcy (suma)', 'Aktywne przypadki', 'Kwarantanna', 'Nadzór'],\n",
      "      dtype='object')\n"
     ]
    }
   ],
   "source": [
    "arch_data0 = pd.read_csv(pathlib.Path('dane/mat_arch.csv'), sep = ';',decimal=' ', encoding= 'windows-1250')\n",
    "print(f'{arch_data0.columns=}')"
   ]
  },
  {
   "cell_type": "markdown",
   "metadata": {},
   "source": [
    "przejrzenie nazw kolumn w plikach w poszukiwaniu nie-duplikatów nazw kolumn"
   ]
  },
  {
   "cell_type": "code",
   "execution_count": 25,
   "metadata": {},
   "outputs": [
    {
     "name": "stdout",
     "output_type": "stream",
     "text": [
      "dla i = 0  len(kowidowe[0].columns)=14\n",
      "kowidowe[0].columns=Index(['wojewodztwo', 'liczba_przypadkow', 'liczba_na_10_tys_mieszkancow',\n",
      "       'zgony', 'zgony_w_wyniku_covid_bez_chorob_wspolistniejacych',\n",
      "       'zgony_w_wyniku_covid_i_chorob_wspolistniejacych', 'liczba_zlecen_poz',\n",
      "       'liczba_osob_objetych_kwarantanna', 'liczba_wykonanych_testow',\n",
      "       'liczba_testow_z_wynikiem_pozytywnym',\n",
      "       'liczba_testow_z_wynikiem_negatywnym', 'liczba_pozostalych_testow',\n",
      "       'teryt', 'stan_rekordu_na'],\n",
      "      dtype='object')\n",
      "dla i = 30  len(kowidowe[i].columns)=14\n",
      "kowidowe[i].columns=Index(['wojewodztwo', 'liczba_przypadkow', 'liczba_na_10_tys_mieszkancow',\n",
      "       'zgony', 'zgony_w_wyniku_covid_bez_chorob_wspolistniejacych',\n",
      "       'zgony_w_wyniku_covid_i_chorob_wspolistniejacych', 'liczba_zlecen_poz',\n",
      "       'liczba_ozdrowiencow', 'liczba_osob_objetych_kwarantanna',\n",
      "       'liczba_wykonanych_testow', 'liczba_testow_z_wynikiem_pozytywnym',\n",
      "       'liczba_testow_z_wynikiem_negatywnym', 'liczba_pozostalych_testow',\n",
      "       'teryt'],\n",
      "      dtype='object')\n",
      "dla i = 65  len(kowidowe[i].columns)=15\n",
      "kowidowe[i].columns=Index(['wojewodztwo', 'liczba_przypadkow', 'liczba_na_10_tys_mieszkancow',\n",
      "       'zgony', 'zgony_w_wyniku_covid_bez_chorob_wspolistniejacych',\n",
      "       'zgony_w_wyniku_covid_i_chorob_wspolistniejacych', 'liczba_zlecen_poz',\n",
      "       'liczba_ozdrowiencow', 'liczba_osob_objetych_kwarantanna',\n",
      "       'liczba_wykonanych_testow', 'liczba_testow_z_wynikiem_pozytywnym',\n",
      "       'liczba_testow_z_wynikiem_negatywnym', 'liczba_pozostalych_testow',\n",
      "       'teryt', 'stan_rekordu_na'],\n",
      "      dtype='object')\n",
      "dla i = 441  len(kowidowe[i].columns)=19\n",
      "kowidowe[i].columns=Index(['wojewodztwo', 'liczba_nowych_zakazen', 'liczba_ponownych_zakazen',\n",
      "       'liczba_wszystkich_zakazen',\n",
      "       'liczba_nowych_zakazen_na_10_tys_mieszkancow',\n",
      "       'liczba_ponownych_zakazen_na_10_tys_mieszkancow',\n",
      "       'liczba_wszystkich_zakazen_na_10_tys_mieszkancow', 'zgony',\n",
      "       'zgony_w_wyniku_covid_bez_chorob_wspolistniejacych',\n",
      "       'zgony_w_wyniku_covid_i_chorob_wspolistniejacych', 'liczba_zlecen_poz',\n",
      "       'liczba_ozdrowiencow', 'liczba_osob_objetych_kwarantanna',\n",
      "       'liczba_wykonanych_testow', 'liczba_testow_z_wynikiem_pozytywnym',\n",
      "       'liczba_testow_z_wynikiem_negatywnym', 'liczba_pozostalych_testow',\n",
      "       'teryt', 'stan_rekordu_na'],\n",
      "      dtype='object')\n"
     ]
    }
   ],
   "source": [
    "print(f'dla i = {0}  {len(kowidowe[0].columns)=}\\n{kowidowe[0].columns=}')\n",
    "\n",
    "for i in range(1, len(kowidowe)):\n",
    "    if list(kowidowe[i].columns) == list(kowidowe[i-1].columns):\n",
    "        continue\n",
    "    else:\n",
    "        print(f'dla i = {i}  {len(kowidowe[i].columns)=}\\n{kowidowe[i].columns=}')"
   ]
  },
  {
   "cell_type": "markdown",
   "metadata": {},
   "source": [
    "<h4>Wyjściowa forma tabeli, to ta z plikow od 441 do końca, gdzie mamy 19 kolumn. <br>\n",
    "będziemy starali sie zmienić oznaczenia kolumn z poprzednich plików na te 19ście </h4>\n",
    "\n",
    "arch_data0.columns=Index(['Unnamed: 0', 'Data', 'Nowe przypadki',\n",
    "       'Wszystkie przypadki kumulatywnie', 'Zgony',\n",
    "       'Wszystkie zgony kumulatywnie', 'Ozdrowieńcy (dzienna)',\n",
    "       'Ozdrowieńcy (suma)', 'Aktywne przypadki', 'Kwarantanna', 'Nadzór'],\n",
    "      dtype='object')"
   ]
  },
  {
   "cell_type": "markdown",
   "metadata": {},
   "source": [
    "<table>\n",
    "<tr><td><b>FINAL FORM</td><td><b>kolumna przejściowa</b></td><td><b>dane archiwalne</b></td></tr>\n",
    "<tr><td>wojewodztwo</td><td>wojewodztwo</td><td><i>tylko t00 - Cały kraj</td></tr>\n",
    "<tr><td>liczba_nowych_zakazen</td><td>liczba_przypadkow</td><td>Nowe przypadki</td></tr>\n",
    "<tr><td>liczba_ponownych_zakazen</td><td></td><td></td></tr>\n",
    "<tr><td>liczba_wszystkich_zakazen</td><td></td><td></td></tr>\n",
    "<tr><td>liczba_nowych_zakazen_na_10_tys_mieszkancow</td><td>liczba_na_10_tys_mieszkancow</td><td></td></tr>\n",
    "<tr><td>liczba_ponownych_zakazen_na_10_tys_mieszkancow</td><td></td><td></td></tr>\n",
    "<tr><td>liczba_wszystkich_zakazen_na_10_tys_mieszkancow</td><td></td><td></td></tr>\n",
    "<tr><td>zgony</td><td>zgony</td><td>Zgony</td></tr>\n",
    "<tr><td>zgony_w_wyniku_covid_bez_chorob_wspolistniejacych</td><td>zgony_w_wyniku_covid_bez_chorob_wspolistniejacych</td><td></td></tr>\n",
    "<tr><td>zgony_w_wyniku_covid_i_chorob_wspolistniejacych</td><td>zgony_w_wyniku_covid_i_chorob_wspolistniejacych</td><td></td></tr>\n",
    "<tr><td>liczba_zlecen_poz</td><td>liczba_zlecen_poz</td><td></td></tr>\n",
    "<tr><td>liczba_ozdrowiencow</td><td>liczba_ozdrowiencow</td><td>Ozdrowieńcy</td></tr>\n",
    "<tr><td>liczba_osob_objetych_kwarantanna</td><td>liczba_osob_objetych_kwarantanna</td><td></td></tr>\n",
    "<tr><td>liczba_wykonanych_testow</td><td>liczba_wykonanych_testow</td><td></td></tr>\n",
    "<tr><td>liczba_testow_z_wynikiem_pozytywnym</td><td>iczba_testow_z_wynikiem_pozytywnym</td><td></td></tr>\n",
    "<tr><td>liczba_testow_z_wynikiem_negatywnym</td><td>liczba_testow_z_wynikiem_negatywnym</td><td></td></tr>\n",
    "<tr><td>liczba_pozostalych_testow</td><td>liczba_pozostalych_testow</td><td></td></tr>\n",
    "<tr><td>teryt</td><td>teryt</td><td></td></tr>\n",
    "<tr><td>stan_rekordu_na</td><td>stan_rekordu_na</td><td>Data</td></tr>\n",
    "<tr><td></td><td></td><td>Wszystkie przypadki kumulatywnie</td></tr>\n",
    "<tr><td></td><td></td><td>Wszystkie zgony kumulatywnie</td></tr>\n",
    "<tr><td></td><td></td><td>Ozdrowieńcy (suma)</td></tr>\n",
    "<tr><td></td><td></td><td>Aktywne przypadki</td></tr>\n",
    "<tr><td></td><td></td><td>Kwarantanna</td></tr>\n",
    "<tr><td></td><td></td><td>Nadzór</td></tr>\n",
    "</table>"
   ]
  },
  {
   "cell_type": "code",
   "execution_count": 27,
   "metadata": {},
   "outputs": [
    {
     "name": "stdout",
     "output_type": "stream",
     "text": [
      "<tr><td>wojewodztwo</td><td></td></tr>\n",
      "<tr><td>liczba_nowych_zakazen</td><td></td></tr>\n",
      "<tr><td>liczba_ponownych_zakazen</td><td></td></tr>\n",
      "<tr><td>liczba_wszystkich_zakazen</td><td></td></tr>\n",
      "<tr><td>liczba_nowych_zakazen_na_10_tys_mieszkancow</td><td></td></tr>\n",
      "<tr><td>liczba_ponownych_zakazen_na_10_tys_mieszkancow</td><td></td></tr>\n",
      "<tr><td>liczba_wszystkich_zakazen_na_10_tys_mieszkancow</td><td></td></tr>\n",
      "<tr><td>zgony</td><td></td></tr>\n",
      "<tr><td>zgony_w_wyniku_covid_bez_chorob_wspolistniejacych</td><td></td></tr>\n",
      "<tr><td>zgony_w_wyniku_covid_i_chorob_wspolistniejacych</td><td></td></tr>\n",
      "<tr><td>liczba_zlecen_poz</td><td></td></tr>\n",
      "<tr><td>liczba_ozdrowiencow</td><td></td></tr>\n",
      "<tr><td>liczba_osob_objetych_kwarantanna</td><td></td></tr>\n",
      "<tr><td>liczba_wykonanych_testow</td><td></td></tr>\n",
      "<tr><td>liczba_testow_z_wynikiem_pozytywnym</td><td></td></tr>\n",
      "<tr><td>liczba_testow_z_wynikiem_negatywnym</td><td></td></tr>\n",
      "<tr><td>liczba_pozostalych_testow</td><td></td></tr>\n",
      "<tr><td>teryt</td><td></td></tr>\n",
      "<tr><td>stan_rekordu_na</td><td></td></tr>\n"
     ]
    }
   ],
   "source": [
    "for i in ['wojewodztwo', 'liczba_nowych_zakazen', 'liczba_ponownych_zakazen','liczba_wszystkich_zakazen','liczba_nowych_zakazen_na_10_tys_mieszkancow',       'liczba_ponownych_zakazen_na_10_tys_mieszkancow',       'liczba_wszystkich_zakazen_na_10_tys_mieszkancow', 'zgony',       'zgony_w_wyniku_covid_bez_chorob_wspolistniejacych',       'zgony_w_wyniku_covid_i_chorob_wspolistniejacych', 'liczba_zlecen_poz',       'liczba_ozdrowiencow', 'liczba_osob_objetych_kwarantanna',       'liczba_wykonanych_testow', 'liczba_testow_z_wynikiem_pozytywnym',       'liczba_testow_z_wynikiem_negatywnym', 'liczba_pozostalych_testow',       'teryt', 'stan_rekordu_na']:\n",
    "    print(f'<tr><td>{i}</td><td></td></tr>')"
   ]
  }
 ],
 "metadata": {
  "kernelspec": {
   "display_name": "Python 3.11.0 ('poker-env': venv)",
   "language": "python",
   "name": "python3"
  },
  "language_info": {
   "codemirror_mode": {
    "name": "ipython",
    "version": 3
   },
   "file_extension": ".py",
   "mimetype": "text/x-python",
   "name": "python",
   "nbconvert_exporter": "python",
   "pygments_lexer": "ipython3",
   "version": "3.11.0"
  },
  "orig_nbformat": 4,
  "vscode": {
   "interpreter": {
    "hash": "d3591b36b6c15668ad4ba641a461fdec8edc39e9a91f9047fbbadd6937cae137"
   }
  }
 },
 "nbformat": 4,
 "nbformat_minor": 2
}
